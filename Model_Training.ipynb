{
 "cells": [
  {
   "cell_type": "code",
   "execution_count": null,
   "id": "a02a94cb-d8ae-4c84-9e4f-587c6da3afb2",
   "metadata": {},
   "outputs": [],
   "source": [
    "import torch \n",
    "import torchvision \n",
    "import torchvision.transforms as transforms\n",
    "from PIL import Image, ImageFilter\n",
    "import cv2\n",
    "import numpy as np"
   ]
  },
  {
   "cell_type": "code",
   "execution_count": null,
   "id": "d6244f8d-ffaa-430f-98a4-bb5fb5d86cd6",
   "metadata": {},
   "outputs": [],
   "source": [
    "tensor_transform = transforms.Compose([transforms.ToTensor(), transforms.Normalize((0.5, 0.5, 0.5), (0.5, 0.5, 0.5))])\n",
    "\n",
    "train_data = torchvision.datasets.CIFAR10(root='./data', train=True, download=True, transform=tensor_transform)\n",
    "test_data = torchvision.datasets.CIFAR10(root='./data', train=False, download=True, transform=tensor_transform)\n",
    "train_data, test_data"
   ]
  },
  {
   "cell_type": "code",
   "execution_count": null,
   "id": "e16e0d87-0088-4311-a2cf-55f3beafd0d5",
   "metadata": {},
   "outputs": [],
   "source": [
    "train_dataloader = torch.utils.data.DataLoader(train_data, batch_size=4, shuffle=True)\n",
    "test_dataloader = torch.utils.data.DataLoader(test_data, batch_size=4, shuffle=False)"
   ]
  },
  {
   "cell_type": "code",
   "execution_count": null,
   "id": "cd85b874-d429-4d6b-838d-51f64693cb7a",
   "metadata": {},
   "outputs": [],
   "source": [
    "import torch.nn as nn\n",
    "import torch.nn.functional as F\n",
    "\n",
    "class Net(nn.Module):\n",
    "    def __init__(self):\n",
    "        super(Net, self).__init__()\n",
    "        self.conv1 = nn.Conv2d(3, 32, 3, padding=1)\n",
    "        self.bn1 = nn.BatchNorm2d(32)\n",
    "        self.pool = nn.MaxPool2d(2, 2)\n",
    "        self.conv2 = nn.Conv2d(32, 64, 3, padding=1)\n",
    "        self.bn2 = nn.BatchNorm2d(64)\n",
    "        self.fc1 = nn.Linear(64 * 8 * 8, 512)\n",
    "        self.dropout = nn.Dropout(0.5)\n",
    "        self.fc2 = nn.Linear(512, 10)\n",
    "\n",
    "    def forward(self, x):\n",
    "        x = self.pool(F.relu(self.bn1(self.conv1(x))))\n",
    "        x = self.pool(F.relu(self.bn2(self.conv2(x))))\n",
    "        x = x.view(-1, 64 * 8 * 8)\n",
    "        x = F.relu(self.fc1(x))\n",
    "        x = self.dropout(x)\n",
    "        x = self.fc2(x)\n",
    "        return x\n",
    "\n",
    "net = Net()\n",
    "net.load_state_dict(torch.load('Baseline.pth'))\n",
    "net.train()"
   ]
  },
  {
   "cell_type": "code",
   "execution_count": null,
   "id": "1633bee9-7b6b-420b-ba53-06521d08ba1d",
   "metadata": {},
   "outputs": [],
   "source": [
    "import torch.optim as optim\n",
    "\n",
    "criterion = nn.CrossEntropyLoss()\n",
    "optimizer = optim.Adam(net.parameters(), lr=0.001, weight_decay=1e-5)\n",
    "scheduler = optim.lr_scheduler.StepLR(optimizer, step_size=10, gamma=0.1)"
   ]
  },
  {
   "cell_type": "code",
   "execution_count": null,
   "id": "557608d9-0242-4d88-8b4a-0901262ec486",
   "metadata": {},
   "outputs": [],
   "source": [
    "#Gaussian blur\n",
    "\n",
    "def gaussianblur(images):\n",
    "    blurred_images_batch = []\n",
    "    for image in images:\n",
    "        transform1 = transforms.ToPILImage()\n",
    "        pil_image = transform1(image)\n",
    "        \n",
    "        blurred_image = pil_image.filter(ImageFilter.GaussianBlur(radius=0.1))\n",
    "        \n",
    "        transform2 = transforms.ToTensor()\n",
    "        tensor_blurred_image = transform2(blurred_image)\n",
    "        blurred_images_batch.append(tensor_blurred_image)\n",
    "    blurred_images_batch = torch.stack(blurred_images_batch)\n",
    "    return blurred_images_batch"
   ]
  },
  {
   "cell_type": "code",
   "execution_count": null,
   "id": "9d961f43-3552-4adb-a0f1-7aaba2035a90",
   "metadata": {},
   "outputs": [],
   "source": [
    "#Median filtering\n",
    "\n",
    "def medianfilter(images):\n",
    "    median_images_batch = []\n",
    "    for image in images:\n",
    "        transform1 = transforms.ToPILImage()\n",
    "        pil_image = transform1(image)\n",
    "        \n",
    "        median_image = pil_image.filter(ImageFilter.MedianFilter(size = 1))\n",
    "        \n",
    "        transform2 = transforms.ToTensor()\n",
    "        tensor_median_image = transform2(median_image)\n",
    "        median_images_batch.append(tensor_median_image)\n",
    "    median_images_batch = torch.stack(median_images_batch)\n",
    "    return median_images_batch"
   ]
  },
  {
   "cell_type": "code",
   "execution_count": null,
   "id": "0f1ca9af-c780-418c-ac20-5d480b3442e8",
   "metadata": {},
   "outputs": [],
   "source": [
    "#Non Local Means Denoising\n",
    "\n",
    "def nlmdenoising(images):\n",
    "    nlm_images_batch = []\n",
    "    for image in images:\n",
    "        transform1 = transforms.ToPILImage()\n",
    "        pil_image = transform1(image)\n",
    "\n",
    "        h=10\n",
    "        np_image = np.array(pil_image)\n",
    "        denoised_image = cv2.fastNlMeansDenoisingColored(np_image, None, h , h , templateWindowSize = 7, searchWindowSize = 21)\n",
    "        nlm_image = Image.fromarray(denoised_image)\n",
    "        \n",
    "        transform2 = transforms.ToTensor()\n",
    "        tensor_nlm_image = transform2(nlm_image)\n",
    "        nlm_images_batch.append(tensor_nlm_image)\n",
    "    nlm_images_batch = torch.stack(nlm_images_batch)\n",
    "    return nlm_images_batch"
   ]
  },
  {
   "cell_type": "code",
   "execution_count": null,
   "id": "032cd904-4103-4d40-8daa-6ca53262ab36",
   "metadata": {},
   "outputs": [],
   "source": [
    "#FGSM\n",
    "\n",
    "epsilon = 0.15\n",
    "net.eval()\n",
    "\n",
    "def FGSM_attack(image, epsilon, data_grad):\n",
    "    sign_data_grad = data_grad.sign()\n",
    "    perturbed_image = image + epsilon*sign_data_grad\n",
    "    perturbed_image = torch.clamp(perturbed_image, 0, 1)\n",
    "    return perturbed_image\n",
    "\n",
    "def denorm(batch, mean=[0.5, 0.5, 0.5], std=[0.5, 0.5, 0.5]):\n",
    "    if isinstance(mean, list):\n",
    "        mean = torch.tensor(mean)\n",
    "    if isinstance(std, list):\n",
    "        std = torch.tensor(std)\n",
    "    return batch * std.view(1, -1, 1, 1) + mean.view(1, -1, 1, 1)\n",
    "\n",
    "for epoch in range(25):\n",
    "    running_loss = 0.0\n",
    "    for i, data in enumerate(train_dataloader, 0):\n",
    "        images, labels = data\n",
    "        images.requires_grad = True\n",
    "        outputs = net(images)\n",
    "        loss = criterion(outputs, labels)\n",
    "        net.zero_grad()\n",
    "        loss.backward()\n",
    "        data_grad = images.grad.data\n",
    "        data_denorm = denorm(images)\n",
    "        perturbed_images = FGSM_attack(images, epsilon, data_grad)\n",
    "        perturbed_images_normalized = transforms.Normalize((0.5, 0.5, 0.5), (0.5, 0.5, 0.5))(perturbed_images)\n",
    "        net.train()\n",
    "        optimizer.zero_grad()\n",
    "        outputs = net(perturbed_images_normalized)\n",
    "        loss = criterion(outputs, labels)\n",
    "        loss.backward()\n",
    "        optimizer.step()\n",
    "        running_loss += loss.item()\n",
    "        if i % 2000 == 1999:\n",
    "            print(f'[{epoch + 1}, {i + 1:5d}] loss: {running_loss / 2000:.3f}')\n",
    "            running_loss = 0.0\n",
    "    scheduler.step()\n",
    "print('Finished Training')"
   ]
  },
  {
   "cell_type": "code",
   "execution_count": null,
   "id": "dd68d6e4-3dff-447e-a86b-c83c13d32ff7",
   "metadata": {},
   "outputs": [],
   "source": [
    "for epoch in range(30):\n",
    "    running_loss = 0.0\n",
    "    for i, data in enumerate(train_dataloader, 0):\n",
    "        images, labels = data\n",
    "        optimizer.zero_grad()\n",
    "        \n",
    "        preprocessed_images = \n",
    "        outputs = net(preprocessed_images)\n",
    "\n",
    "        loss = criterion(outputs, labels)\n",
    "        loss.backward()\n",
    "        optimizer.step()\n",
    "        running_loss += loss.item()\n",
    "        if i % 2000 == 1999:\n",
    "            print(f'[{epoch + 1}, {i + 1:5d}] loss: {running_loss / 2000:.3f}')\n",
    "            running_loss = 0.0\n",
    "    scheduler.step()\n",
    "print('Finished Training')"
   ]
  },
  {
   "cell_type": "code",
   "execution_count": null,
   "id": "68877a40-73c1-4a72-a4a1-121d62474570",
   "metadata": {},
   "outputs": [],
   "source": [
    "PATH = './fgsm_trained.pth'\n",
    "torch.save(net.state_dict(), PATH)"
   ]
  },
  {
   "cell_type": "code",
   "execution_count": null,
   "id": "e418eace-43ce-4ff5-900a-d9fb45bfc00d",
   "metadata": {},
   "outputs": [],
   "source": []
  }
 ],
 "metadata": {
  "kernelspec": {
   "display_name": "Python (pytorch_env)",
   "language": "python",
   "name": "pytorch_env"
  },
  "language_info": {
   "codemirror_mode": {
    "name": "ipython",
    "version": 3
   },
   "file_extension": ".py",
   "mimetype": "text/x-python",
   "name": "python",
   "nbconvert_exporter": "python",
   "pygments_lexer": "ipython3",
   "version": "3.12.4"
  }
 },
 "nbformat": 4,
 "nbformat_minor": 5
}
