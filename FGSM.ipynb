{
 "cells": [
  {
   "cell_type": "code",
   "execution_count": null,
   "id": "65f89548-5295-4b55-941e-d80bc17e5f53",
   "metadata": {},
   "outputs": [],
   "source": [
    "import torch \n",
    "import torchvision \n",
    "import torchvision.transforms as transforms\n",
    "\n",
    "from PIL import Image, ImageFilter\n",
    "import cv2\n",
    "import numpy as np\n"
   ]
  },
  {
   "cell_type": "code",
   "execution_count": null,
   "id": "4b61e6d9-0e7f-4d7f-9341-79d3a1a2c465",
   "metadata": {},
   "outputs": [],
   "source": [
    "\n",
    "tensor_transform = transforms.Compose([transforms.ToTensor(), transforms.Normalize((0.5, 0.5, 0.5), (0.5, 0.5, 0.5))])\n",
    "\n",
    "test_data = torchvision.datasets.CIFAR10(root='./data', train=False, download=True, transform=tensor_transform)\n",
    "test_dataloader = torch.utils.data.DataLoader(test_data, batch_size=1, shuffle=False)\n",
    "\n"
   ]
  },
  {
   "cell_type": "code",
   "execution_count": null,
   "id": "3aa77804-63ac-440c-bccb-a7929877a6bc",
   "metadata": {},
   "outputs": [],
   "source": [
    "\n",
    "import torch.nn as nn\n",
    "import torch.nn.functional as F\n",
    "\n",
    "class Net(nn.Module):\n",
    "    def __init__(self):\n",
    "        super(Net, self).__init__()\n",
    "        self.conv1 = nn.Conv2d(3, 32, 3, padding=1)\n",
    "        self.bn1 = nn.BatchNorm2d(32)\n",
    "        self.pool = nn.MaxPool2d(2, 2)\n",
    "        self.conv2 = nn.Conv2d(32, 64, 3, padding=1)\n",
    "        self.bn2 = nn.BatchNorm2d(64)\n",
    "        self.fc1 = nn.Linear(64 * 8 * 8, 512)\n",
    "        self.dropout = nn.Dropout(0.5)\n",
    "        self.fc2 = nn.Linear(512, 10)\n",
    "\n",
    "    def forward(self, x):\n",
    "        x = self.pool(F.relu(self.bn1(self.conv1(x))))\n",
    "        x = self.pool(F.relu(self.bn2(self.conv2(x))))\n",
    "        x = x.view(-1, 64 * 8 * 8)\n",
    "        x = F.relu(self.fc1(x))\n",
    "        x = self.dropout(x)\n",
    "        x = self.fc2(x)\n",
    "        return x\n",
    "\n",
    "net = Net()\n",
    "\n"
   ]
  },
  {
   "cell_type": "code",
   "execution_count": null,
   "id": "0cc98436-edd2-4f98-bcfc-1f5127f6296a",
   "metadata": {},
   "outputs": [],
   "source": [
    "\n",
    "net.load_state_dict(torch.load('fgsm_trained.pth'))\n",
    "net.eval()\n",
    "\n",
    "criterion = nn.CrossEntropyLoss()\n",
    "\n"
   ]
  },
  {
   "cell_type": "code",
   "execution_count": null,
   "id": "27cbc000-026d-4ffa-8796-bc281eeb83ea",
   "metadata": {},
   "outputs": [],
   "source": [
    "\n",
    "def FGSM_attack(image, epsilon, data_grad):\n",
    "    sign_data_grad = data_grad.sign()\n",
    "    perturbed_image = image + epsilon*sign_data_grad\n",
    "    perturbed_image = torch.clamp(perturbed_image, 0, 1)\n",
    "    return perturbed_image\n",
    "\n",
    "def denorm(batch, mean=[0.5, 0.5, 0.5], std=[0.5, 0.5, 0.5]):\n",
    "    if isinstance(mean, list):\n",
    "        mean = torch.tensor(mean)\n",
    "    if isinstance(std, list):\n",
    "        std = torch.tensor(std)\n",
    "    return batch * std.view(1, -1, 1, 1) + mean.view(1, -1, 1, 1)\n",
    "\n"
   ]
  },
  {
   "cell_type": "code",
   "execution_count": null,
   "id": "2461100b-8bbe-49c7-b5b5-6c006f43c468",
   "metadata": {},
   "outputs": [],
   "source": [
    "\n",
    "\n",
    "def FGSM( model, test_dataloader, epsilon ):\n",
    "    total = 0\n",
    "    correct = 0\n",
    "    for data, target in test_dataloader:\n",
    "        data.requires_grad = True\n",
    "        output = model(data)\n",
    "        init_pred = output.max(1, keepdim=True)[1]\n",
    "        for i in range(len(target)):\n",
    "            total+=1\n",
    "            loss = criterion(output, target)\n",
    "            model.zero_grad()\n",
    "            loss.backward()\n",
    "            data_grad = data.grad.data\n",
    "            data_denorm = denorm(data)\n",
    "            perturbed_data = FGSM_attack(data_denorm, epsilon, data_grad)\n",
    "            perturbed_data_normalized = transforms.Normalize((0.5, 0.5, 0.5), (0.5, 0.5, 0.5))(perturbed_data)\n",
    "\n",
    "            preprocessed_images = nlmdenoising(perturbed_data_normalized) #change the function name to the required preprocessing method\n",
    "            output = model(preprocessed_images)\n",
    "            \n",
    "            #output = model(perturbed_data_normalized)\n",
    "            final_pred = output.max(1, keepdim=True)[1]\n",
    "            if final_pred[i].item() == target[i].item():\n",
    "                correct += 1\n",
    "\n",
    "    print(f\"Epsilon: {epsilon}\\tTest Accuracy = {correct} / {total} = {100 * correct / total} %\")\n",
    "\n"
   ]
  },
  {
   "cell_type": "code",
   "execution_count": null,
   "id": "6c72d1c2-3f84-49b3-8bb3-80c2fbf327b7",
   "metadata": {},
   "outputs": [],
   "source": [
    "#Gaussian Blur\n",
    "\n",
    "def gaussianblur(images):\n",
    "    blurred_images_batch = []\n",
    "    for image in images:\n",
    "        transform1 = transforms.ToPILImage()\n",
    "        pil_image = transform1(image)\n",
    "        blurred_image = pil_image.filter(ImageFilter.GaussianBlur(radius=0.1))\n",
    "        transform2 = transforms.ToTensor()\n",
    "        tensor_blurred_image = transform2(blurred_image)\n",
    "        blurred_images_batch.append(tensor_blurred_image)\n",
    "    blurred_images_batch = torch.stack(blurred_images_batch)\n",
    "    return blurred_images_batch\n",
    "\n"
   ]
  },
  {
   "cell_type": "code",
   "execution_count": null,
   "id": "663df2e8-ee31-4f84-abdd-b54d9e5e85af",
   "metadata": {},
   "outputs": [],
   "source": [
    "#Median filtering\n",
    "\n",
    "def medianfilter(images):\n",
    "    median_images_batch = []\n",
    "    for image in images:\n",
    "        transform1 = transforms.ToPILImage()\n",
    "        pil_image = transform1(image)\n",
    "        median_image = pil_image.filter(ImageFilter.MedianFilter(size = 1))\n",
    "        transform2 = transforms.ToTensor()\n",
    "        tensor_median_image = transform2(median_image)\n",
    "        median_images_batch.append(tensor_median_image)\n",
    "    median_images_batch = torch.stack(median_images_batch)\n",
    "    return median_images_batch\n",
    "\n"
   ]
  },
  {
   "cell_type": "code",
   "execution_count": null,
   "id": "7ea318ca-5714-49a5-9368-fca3ccc3a6cc",
   "metadata": {},
   "outputs": [],
   "source": [
    "#Non Local Means Denoising\n",
    "\n",
    "def nlmdenoising(images):\n",
    "    nlm_images_batch = []\n",
    "    for image in images:\n",
    "        transform1 = transforms.ToPILImage()\n",
    "        pil_image = transform1(image)\n",
    "\n",
    "        h=10\n",
    "        np_image = np.array(pil_image)\n",
    "        denoised_image = cv2.fastNlMeansDenoisingColored(np_image, None, h , h , templateWindowSize = 7, searchWindowSize = 21)\n",
    "        nlm_image = Image.fromarray(denoised_image)\n",
    "        \n",
    "        transform2 = transforms.ToTensor()\n",
    "        tensor_nlm_image = transform2(nlm_image)\n",
    "        nlm_images_batch.append(tensor_nlm_image)\n",
    "    nlm_images_batch = torch.stack(nlm_images_batch)\n",
    "    return nlm_images_batch"
   ]
  },
  {
   "cell_type": "code",
   "execution_count": null,
   "id": "2b6cf76d-51d6-4c3f-ae45-cdbf9d5f38a0",
   "metadata": {},
   "outputs": [],
   "source": [
    "\n",
    "epsilons = [0, .05, .1, .15, .2, .25, .3]\n",
    "\n",
    "for e in epsilons:\n",
    "    FGSM(net, test_dataloader, e)\n",
    "\n"
   ]
  },
  {
   "cell_type": "code",
   "execution_count": null,
   "id": "9a19d6dd-6c4a-4b14-9114-b3ef743cce25",
   "metadata": {},
   "outputs": [],
   "source": []
  }
 ],
 "metadata": {
  "kernelspec": {
   "display_name": "Python (pytorch_env)",
   "language": "python",
   "name": "pytorch_env"
  },
  "language_info": {
   "codemirror_mode": {
    "name": "ipython",
    "version": 3
   },
   "file_extension": ".py",
   "mimetype": "text/x-python",
   "name": "python",
   "nbconvert_exporter": "python",
   "pygments_lexer": "ipython3",
   "version": "3.12.4"
  }
 },
 "nbformat": 4,
 "nbformat_minor": 5
}
