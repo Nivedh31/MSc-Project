{
 "cells": [
  {
   "cell_type": "code",
   "execution_count": 1,
   "id": "8278ad36-26be-4f5a-856d-e0f17704b9f7",
   "metadata": {},
   "outputs": [],
   "source": [
    "import torch \n",
    "import torchvision \n",
    "import torchvision.transforms as transforms"
   ]
  },
  {
   "cell_type": "code",
   "execution_count": 3,
   "id": "d2d84d7a-ad27-4576-abdf-b4502fe10602",
   "metadata": {},
   "outputs": [
    {
     "name": "stdout",
     "output_type": "stream",
     "text": [
      "Files already downloaded and verified\n",
      "Files already downloaded and verified\n"
     ]
    },
    {
     "data": {
      "text/plain": [
       "(Dataset CIFAR10\n",
       "     Number of datapoints: 50000\n",
       "     Root location: ./data\n",
       "     Split: Train\n",
       "     StandardTransform\n",
       " Transform: Compose(\n",
       "                ToTensor()\n",
       "                Normalize(mean=(0.5, 0.5, 0.5), std=(0.5, 0.5, 0.5))\n",
       "            ),\n",
       " Dataset CIFAR10\n",
       "     Number of datapoints: 10000\n",
       "     Root location: ./data\n",
       "     Split: Test\n",
       "     StandardTransform\n",
       " Transform: Compose(\n",
       "                ToTensor()\n",
       "                Normalize(mean=(0.5, 0.5, 0.5), std=(0.5, 0.5, 0.5))\n",
       "            ))"
      ]
     },
     "execution_count": 3,
     "metadata": {},
     "output_type": "execute_result"
    }
   ],
   "source": [
    "#tensor_transform = transforms.Compose([transforms.ToTensor()])\n",
    "tensor_transform = transforms.Compose([transforms.ToTensor(), transforms.Normalize((0.5, 0.5, 0.5), (0.5, 0.5, 0.5))])\n",
    "\n",
    "train_data = torchvision.datasets.CIFAR10(root='./data', train=True, download=True, transform=tensor_transform)\n",
    "test_data = torchvision.datasets.CIFAR10(root='./data', train=False, download=True, transform=tensor_transform)\n",
    "train_data, test_data"
   ]
  },
  {
   "cell_type": "code",
   "execution_count": 5,
   "id": "b736e7c3-51ec-482e-ae3d-ceafbf3dc484",
   "metadata": {},
   "outputs": [
    {
     "data": {
      "text/plain": [
       "tensor([[[-0.5373, -0.6627, -0.6078,  ...,  0.2392,  0.1922,  0.1608],\n",
       "         [-0.8745, -1.0000, -0.8588,  ..., -0.0353, -0.0667, -0.0431],\n",
       "         [-0.8039, -0.8745, -0.6157,  ..., -0.0745, -0.0588, -0.1451],\n",
       "         ...,\n",
       "         [ 0.6314,  0.5765,  0.5529,  ...,  0.2549, -0.5608, -0.5843],\n",
       "         [ 0.4118,  0.3569,  0.4588,  ...,  0.4431, -0.2392, -0.3490],\n",
       "         [ 0.3882,  0.3176,  0.4039,  ...,  0.6941,  0.1843, -0.0353]],\n",
       "\n",
       "        [[-0.5137, -0.6392, -0.6235,  ...,  0.0353, -0.0196, -0.0275],\n",
       "         [-0.8431, -1.0000, -0.9373,  ..., -0.3098, -0.3490, -0.3176],\n",
       "         [-0.8118, -0.9451, -0.7882,  ..., -0.3412, -0.3412, -0.4275],\n",
       "         ...,\n",
       "         [ 0.3333,  0.2000,  0.2627,  ...,  0.0431, -0.7569, -0.7333],\n",
       "         [ 0.0902, -0.0353,  0.1294,  ...,  0.1608, -0.5137, -0.5843],\n",
       "         [ 0.1294,  0.0118,  0.1137,  ...,  0.4431, -0.0745, -0.2784]],\n",
       "\n",
       "        [[-0.5059, -0.6471, -0.6627,  ..., -0.1529, -0.2000, -0.1922],\n",
       "         [-0.8431, -1.0000, -1.0000,  ..., -0.5686, -0.6078, -0.5529],\n",
       "         [-0.8353, -1.0000, -0.9373,  ..., -0.6078, -0.6078, -0.6706],\n",
       "         ...,\n",
       "         [-0.2471, -0.7333, -0.7961,  ..., -0.4510, -0.9451, -0.8431],\n",
       "         [-0.2471, -0.6706, -0.7647,  ..., -0.2627, -0.7333, -0.7333],\n",
       "         [-0.0902, -0.2627, -0.3176,  ...,  0.0980, -0.3412, -0.4353]]])"
      ]
     },
     "metadata": {},
     "output_type": "display_data"
    }
   ],
   "source": [
    "display(train_data[0][0])"
   ]
  },
  {
   "cell_type": "code",
   "execution_count": 7,
   "id": "c9f7cfa3-dd4c-47cc-b658-c896123f9d00",
   "metadata": {},
   "outputs": [],
   "source": [
    "classes = {0:'plane', 1:'car', 2:'bird', 3:'cat', 4:'deer', 5:'dog', 6:'frog', 7:'horse', 8:'ship', 9:'truck'}"
   ]
  },
  {
   "cell_type": "code",
   "execution_count": 9,
   "id": "6ad917ff-b138-46f6-9cd2-38c9e694e154",
   "metadata": {},
   "outputs": [],
   "source": [
    "train_dataloader = torch.utils.data.DataLoader(train_data, batch_size=4, shuffle=True)\n",
    "test_dataloader = torch.utils.data.DataLoader(test_data, batch_size=4, shuffle=False)"
   ]
  },
  {
   "cell_type": "code",
   "execution_count": 12,
   "id": "1ac4cc16-201e-4f22-8a5e-29f1a5d3320f",
   "metadata": {},
   "outputs": [],
   "source": [
    "import torch.nn as nn\n",
    "import torch.nn.functional as F\n",
    "\n",
    "\n",
    "class Net(nn.Module):\n",
    "    def __init__(self):\n",
    "        super().__init__()\n",
    "        self.conv1 = nn.Conv2d(3, 6, 5)\n",
    "        self.pool = nn.MaxPool2d(2, 2)\n",
    "        self.conv2 = nn.Conv2d(6, 16, 5)\n",
    "        self.fc1 = nn.Linear(16 * 5 * 5, 120)\n",
    "        self.fc2 = nn.Linear(120, 84)\n",
    "        self.fc3 = nn.Linear(84, 10)\n",
    "\n",
    "    def forward(self, x):\n",
    "        x = self.pool(F.relu(self.conv1(x)))\n",
    "        x = self.pool(F.relu(self.conv2(x)))\n",
    "        x = torch.flatten(x, 1)\n",
    "        x = F.relu(self.fc1(x))\n",
    "        x = F.relu(self.fc2(x))\n",
    "        x = self.fc3(x)\n",
    "        return x\n",
    "\n",
    "\n",
    "net = Net()"
   ]
  },
  {
   "cell_type": "code",
   "execution_count": 11,
   "id": "e8517ed7-cf14-4d2f-b7c9-91446ef695a0",
   "metadata": {},
   "outputs": [],
   "source": [
    "#New Model\n",
    "\n",
    "import torch.nn as nn\n",
    "import torch.nn.functional as F\n",
    "\n",
    "class Net(nn.Module):\n",
    "    def __init__(self):\n",
    "        super(Net, self).__init__()\n",
    "        self.conv1 = nn.Conv2d(3, 32, 3, padding=1)\n",
    "        self.bn1 = nn.BatchNorm2d(32)\n",
    "        self.pool = nn.MaxPool2d(2, 2)\n",
    "        self.conv2 = nn.Conv2d(32, 64, 3, padding=1)\n",
    "        self.bn2 = nn.BatchNorm2d(64)\n",
    "        self.fc1 = nn.Linear(64 * 8 * 8, 512)\n",
    "        self.dropout = nn.Dropout(0.5)\n",
    "        self.fc2 = nn.Linear(512, 10)\n",
    "\n",
    "    def forward(self, x):\n",
    "        x = self.pool(F.relu(self.bn1(self.conv1(x))))\n",
    "        x = self.pool(F.relu(self.bn2(self.conv2(x))))\n",
    "        x = x.view(-1, 64 * 8 * 8)\n",
    "        x = F.relu(self.fc1(x))\n",
    "        x = self.dropout(x)\n",
    "        x = self.fc2(x)\n",
    "        return x\n",
    "\n",
    "net = Net()"
   ]
  },
  {
   "cell_type": "code",
   "execution_count": 15,
   "id": "6dba322f-4b13-4bea-a96e-b0af3329ab9e",
   "metadata": {},
   "outputs": [
    {
     "data": {
      "text/plain": [
       "Net(\n",
       "  (conv1): Conv2d(3, 32, kernel_size=(3, 3), stride=(1, 1), padding=(1, 1))\n",
       "  (bn1): BatchNorm2d(32, eps=1e-05, momentum=0.1, affine=True, track_running_stats=True)\n",
       "  (pool): MaxPool2d(kernel_size=2, stride=2, padding=0, dilation=1, ceil_mode=False)\n",
       "  (conv2): Conv2d(32, 64, kernel_size=(3, 3), stride=(1, 1), padding=(1, 1))\n",
       "  (bn2): BatchNorm2d(64, eps=1e-05, momentum=0.1, affine=True, track_running_stats=True)\n",
       "  (fc1): Linear(in_features=4096, out_features=512, bias=True)\n",
       "  (dropout): Dropout(p=0.5, inplace=False)\n",
       "  (fc2): Linear(in_features=512, out_features=10, bias=True)\n",
       ")"
      ]
     },
     "execution_count": 15,
     "metadata": {},
     "output_type": "execute_result"
    }
   ],
   "source": [
    "import torch.optim as optim\n",
    "\n",
    "#criterion = nn.CrossEntropyLoss()\n",
    "#optimizer = optim.SGD(net.parameters(), lr=0.001, momentum=0.9)\n",
    "\n",
    "#New optimization\n",
    "criterion = nn.CrossEntropyLoss()\n",
    "optimizer = optim.Adam(net.parameters(), lr=0.001, weight_decay=1e-5)\n",
    "scheduler = optim.lr_scheduler.StepLR(optimizer, step_size=10, gamma=0.1)\n"
   ]
  },
  {
   "cell_type": "code",
   "execution_count": null,
   "id": "bd9636f9-a304-4968-9b16-f638a9e465bd",
   "metadata": {},
   "outputs": [
    {
     "name": "stdout",
     "output_type": "stream",
     "text": [
      "[1,  2000] loss: 2.099\n",
      "[1,  4000] loss: 1.824\n",
      "[1,  6000] loss: 1.678\n",
      "[1,  8000] loss: 1.575\n",
      "[1, 10000] loss: 1.526\n",
      "[1, 12000] loss: 1.483\n",
      "[2,  2000] loss: 1.378\n",
      "[2,  4000] loss: 1.368\n",
      "[2,  6000] loss: 1.287\n",
      "[2,  8000] loss: 1.242\n",
      "[2, 10000] loss: 1.219\n",
      "[2, 12000] loss: 1.194\n",
      "[3,  2000] loss: 1.086\n",
      "[3,  4000] loss: 1.071\n",
      "[3,  6000] loss: 1.110\n",
      "[3,  8000] loss: 1.075\n",
      "[3, 10000] loss: 1.061\n",
      "[3, 12000] loss: 1.089\n",
      "[4,  2000] loss: 0.962\n",
      "[4,  4000] loss: 0.972\n",
      "[4,  6000] loss: 0.992\n",
      "[4,  8000] loss: 0.957\n",
      "[4, 10000] loss: 0.951\n",
      "[4, 12000] loss: 0.970\n",
      "[5,  2000] loss: 0.872\n",
      "[5,  4000] loss: 0.856\n",
      "[5,  6000] loss: 0.868\n",
      "[5,  8000] loss: 0.859\n",
      "[5, 10000] loss: 0.886\n",
      "[5, 12000] loss: 0.887\n",
      "[6,  2000] loss: 0.776\n",
      "[6,  4000] loss: 0.767\n",
      "[6,  6000] loss: 0.809\n",
      "[6,  8000] loss: 0.803\n",
      "[6, 10000] loss: 0.820\n",
      "[6, 12000] loss: 0.828\n",
      "[7,  2000] loss: 0.705\n",
      "[7,  4000] loss: 0.716\n",
      "[7,  6000] loss: 0.718\n",
      "[7,  8000] loss: 0.765\n",
      "[7, 10000] loss: 0.767\n",
      "[7, 12000] loss: 0.776\n",
      "[8,  2000] loss: 0.635\n",
      "[8,  4000] loss: 0.695\n",
      "[8,  6000] loss: 0.653\n",
      "[8,  8000] loss: 0.711\n",
      "[8, 10000] loss: 0.694\n",
      "[8, 12000] loss: 0.741\n",
      "[9,  2000] loss: 0.614\n",
      "[9,  4000] loss: 0.637\n",
      "[9,  6000] loss: 0.650\n",
      "[9,  8000] loss: 0.641\n",
      "[9, 10000] loss: 0.679\n",
      "[9, 12000] loss: 0.699\n",
      "[10,  2000] loss: 0.572\n",
      "[10,  4000] loss: 0.576\n",
      "[10,  6000] loss: 0.587\n",
      "[10,  8000] loss: 0.605\n",
      "[10, 10000] loss: 0.646\n",
      "[10, 12000] loss: 0.636\n",
      "[11,  2000] loss: 0.462\n",
      "[11,  4000] loss: 0.420\n",
      "[11,  6000] loss: 0.423\n",
      "[11,  8000] loss: 0.391\n",
      "[11, 10000] loss: 0.390\n",
      "[11, 12000] loss: 0.385\n",
      "[12,  2000] loss: 0.360\n",
      "[12,  4000] loss: 0.354\n",
      "[12,  6000] loss: 0.353\n",
      "[12,  8000] loss: 0.361\n",
      "[12, 10000] loss: 0.333\n",
      "[12, 12000] loss: 0.329\n",
      "[13,  2000] loss: 0.320\n",
      "[13,  4000] loss: 0.319\n",
      "[13,  6000] loss: 0.341\n",
      "[13,  8000] loss: 0.324\n",
      "[13, 10000] loss: 0.327\n",
      "[13, 12000] loss: 0.324\n",
      "[14,  2000] loss: 0.309\n",
      "[14,  4000] loss: 0.306\n",
      "[14,  6000] loss: 0.313\n",
      "[14,  8000] loss: 0.307\n",
      "[14, 10000] loss: 0.294\n",
      "[14, 12000] loss: 0.303\n",
      "[15,  2000] loss: 0.285\n",
      "[15,  4000] loss: 0.269\n",
      "[15,  6000] loss: 0.282\n",
      "[15,  8000] loss: 0.292\n",
      "[15, 10000] loss: 0.281\n",
      "[15, 12000] loss: 0.279\n",
      "[16,  2000] loss: 0.274\n",
      "[16,  4000] loss: 0.261\n",
      "[16,  6000] loss: 0.266\n",
      "[16,  8000] loss: 0.269\n",
      "[16, 10000] loss: 0.268\n",
      "[16, 12000] loss: 0.272\n",
      "[17,  2000] loss: 0.245\n",
      "[17,  4000] loss: 0.243\n",
      "[17,  6000] loss: 0.238\n",
      "[17,  8000] loss: 0.257\n",
      "[17, 10000] loss: 0.267\n",
      "[17, 12000] loss: 0.257\n",
      "[18,  2000] loss: 0.231\n",
      "[18,  4000] loss: 0.248\n",
      "[18,  6000] loss: 0.237\n",
      "[18,  8000] loss: 0.238\n",
      "[18, 10000] loss: 0.246\n",
      "[18, 12000] loss: 0.239\n",
      "[19,  2000] loss: 0.226\n",
      "[19,  4000] loss: 0.208\n",
      "[19,  6000] loss: 0.206\n",
      "[19,  8000] loss: 0.229\n",
      "[19, 10000] loss: 0.219\n",
      "[19, 12000] loss: 0.230\n",
      "[20,  2000] loss: 0.201\n",
      "[20,  4000] loss: 0.212\n",
      "[20,  6000] loss: 0.211\n",
      "[20,  8000] loss: 0.198\n",
      "[20, 10000] loss: 0.208\n",
      "[20, 12000] loss: 0.217\n",
      "[21,  2000] loss: 0.179\n",
      "[21,  4000] loss: 0.188\n",
      "[21,  6000] loss: 0.192\n",
      "[21,  8000] loss: 0.183\n",
      "[21, 10000] loss: 0.181\n",
      "[21, 12000] loss: 0.197\n",
      "[22,  2000] loss: 0.186\n",
      "[22,  4000] loss: 0.177\n",
      "[22,  6000] loss: 0.181\n",
      "[22,  8000] loss: 0.177\n",
      "[22, 10000] loss: 0.183\n",
      "[22, 12000] loss: 0.171\n",
      "[23,  2000] loss: 0.165\n",
      "[23,  4000] loss: 0.191\n",
      "[23,  6000] loss: 0.180\n",
      "[23,  8000] loss: 0.171\n",
      "[23, 10000] loss: 0.174\n",
      "[23, 12000] loss: 0.185\n",
      "[24,  2000] loss: 0.178\n",
      "[24,  4000] loss: 0.173\n",
      "[24,  6000] loss: 0.169\n",
      "[24,  8000] loss: 0.179\n",
      "[24, 10000] loss: 0.186\n"
     ]
    }
   ],
   "source": [
    "for epoch in range(30):\n",
    "    running_loss = 0.0\n",
    "    for i, data in enumerate(train_dataloader, 0):\n",
    "        inputs, labels = data\n",
    "        optimizer.zero_grad()\n",
    "        outputs = net(inputs)\n",
    "        loss = criterion(outputs, labels)\n",
    "        loss.backward()\n",
    "        optimizer.step()\n",
    "        running_loss += loss.item()\n",
    "        if i % 2000 == 1999:\n",
    "            print(f'[{epoch + 1}, {i + 1:5d}] loss: {running_loss / 2000:.3f}')\n",
    "            running_loss = 0.0\n",
    "    #new line\n",
    "    scheduler.step()\n",
    "print('Finished Training')"
   ]
  },
  {
   "cell_type": "code",
   "execution_count": 18,
   "id": "c8d8b15e-1e86-465c-99fc-d9570a5c5e2a",
   "metadata": {},
   "outputs": [
    {
     "name": "stdout",
     "output_type": "stream",
     "text": [
      "Accuracy of the network on the 10000 test images: 73 %\n"
     ]
    }
   ],
   "source": [
    "correct = 0\n",
    "total = 0\n",
    "with torch.no_grad():\n",
    "    for data in test_dataloader:\n",
    "        images, labels = data\n",
    "        outputs = net(images)\n",
    "        _, predicted = torch.max(outputs.data, 1)\n",
    "        total += labels.size(0)\n",
    "        correct += (predicted == labels).sum().item()\n",
    "\n",
    "print(f'Accuracy of the network on the 10000 test images: {100 * correct // total} %')"
   ]
  },
  {
   "cell_type": "code",
   "execution_count": 20,
   "id": "6985cbd3-2cce-429d-a558-006baf5edf9a",
   "metadata": {},
   "outputs": [],
   "source": [
    "PATH = './cifar_net.pth'\n",
    "torch.save(net.state_dict(), PATH)"
   ]
  },
  {
   "cell_type": "code",
   "execution_count": null,
   "id": "0a7dde74-2804-494c-881b-8608f9070354",
   "metadata": {},
   "outputs": [],
   "source": []
  }
 ],
 "metadata": {
  "kernelspec": {
   "display_name": "Python (pytorch_env)",
   "language": "python",
   "name": "pytorch_env"
  },
  "language_info": {
   "codemirror_mode": {
    "name": "ipython",
    "version": 3
   },
   "file_extension": ".py",
   "mimetype": "text/x-python",
   "name": "python",
   "nbconvert_exporter": "python",
   "pygments_lexer": "ipython3",
   "version": "3.12.4"
  }
 },
 "nbformat": 4,
 "nbformat_minor": 5
}
