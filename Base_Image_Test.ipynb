{
 "cells": [
  {
   "cell_type": "code",
   "execution_count": null,
   "id": "7fa748d3-1c8d-422a-b1c8-968774c8d558",
   "metadata": {},
   "outputs": [],
   "source": [
    "import torch \n",
    "import torchvision \n",
    "import torchvision.transforms as transforms\n",
    "from PIL import Image, ImageFilter\n",
    "import cv2\n",
    "import numpy as np"
   ]
  },
  {
   "cell_type": "code",
   "execution_count": null,
   "id": "15f52ce8-c7d7-4ce7-9b16-aba9e4aadbf2",
   "metadata": {},
   "outputs": [],
   "source": [
    "tensor_transform = transforms.Compose([transforms.ToTensor(), transforms.Normalize((0.5, 0.5, 0.5), (0.5, 0.5, 0.5))])\n",
    "\n",
    "test_data = torchvision.datasets.CIFAR10(root='./data', train=False, download=True, transform=tensor_transform)\n",
    "test_dataloader = torch.utils.data.DataLoader(test_data, batch_size=4, shuffle=False)"
   ]
  },
  {
   "cell_type": "code",
   "execution_count": null,
   "id": "b573b7b5-3a86-4eef-9ac9-6c70f4f3fabc",
   "metadata": {},
   "outputs": [],
   "source": [
    "import torch.nn as nn\n",
    "import torch.nn.functional as F\n",
    "\n",
    "class Net(nn.Module):\n",
    "    def __init__(self):\n",
    "        super(Net, self).__init__()\n",
    "        self.conv1 = nn.Conv2d(3, 32, 3, padding=1)\n",
    "        self.bn1 = nn.BatchNorm2d(32)\n",
    "        self.pool = nn.MaxPool2d(2, 2)\n",
    "        self.conv2 = nn.Conv2d(32, 64, 3, padding=1)\n",
    "        self.bn2 = nn.BatchNorm2d(64)\n",
    "        self.fc1 = nn.Linear(64 * 8 * 8, 512)\n",
    "        self.dropout = nn.Dropout(0.5)\n",
    "        self.fc2 = nn.Linear(512, 10)\n",
    "\n",
    "    def forward(self, x):\n",
    "        x = self.pool(F.relu(self.bn1(self.conv1(x))))\n",
    "        x = self.pool(F.relu(self.bn2(self.conv2(x))))\n",
    "        x = x.view(-1, 64 * 8 * 8)\n",
    "        x = F.relu(self.fc1(x))\n",
    "        x = self.dropout(x)\n",
    "        x = self.fc2(x)\n",
    "        return x\n",
    "\n",
    "net = Net()\n",
    "\n",
    "net.load_state_dict(torch.load('gauss_trained.pth')) #Switch models to try dieffernt models \n",
    "net.eval()"
   ]
  },
  {
   "cell_type": "code",
   "execution_count": null,
   "id": "4991ae84-3d5b-4785-a628-56231eb5fb3d",
   "metadata": {},
   "outputs": [],
   "source": [
    "#Gaussian blur\n",
    "\n",
    "def gaussianblur(images):\n",
    "    blurred_images_batch = []\n",
    "    for image in images:\n",
    "        transform1 = transforms.ToPILImage()\n",
    "        pil_image = transform1(image)\n",
    "        \n",
    "        blurred_image = pil_image.filter(ImageFilter.GaussianBlur(radius=0.5))\n",
    "        \n",
    "        transform2 = transforms.ToTensor()\n",
    "        tensor_blurred_image = transform2(blurred_image)\n",
    "        blurred_images_batch.append(tensor_blurred_image)\n",
    "    blurred_images_batch = torch.stack(blurred_images_batch)\n",
    "    return blurred_images_batch"
   ]
  },
  {
   "cell_type": "code",
   "execution_count": null,
   "id": "52c0128a-35fc-40f0-99b2-18976ab45a28",
   "metadata": {},
   "outputs": [],
   "source": [
    "#Median filtering\n",
    "\n",
    "def medianfilter(images):\n",
    "    median_images_batch = []\n",
    "    for image in images:\n",
    "        transform1 = transforms.ToPILImage()\n",
    "        pil_image = transform1(image)\n",
    "        \n",
    "        median_image = pil_image.filter(ImageFilter.MedianFilter(size = 1))\n",
    "        \n",
    "        transform2 = transforms.ToTensor()\n",
    "        tensor_median_image = transform2(median_image)\n",
    "        median_images_batch.append(tensor_median_image)\n",
    "    median_images_batch = torch.stack(median_images_batch)\n",
    "    return median_images_batch"
   ]
  },
  {
   "cell_type": "code",
   "execution_count": null,
   "id": "5d9e1f54-5981-4f36-984d-695a874e40cd",
   "metadata": {},
   "outputs": [],
   "source": [
    "#Non Local Means Denoising\n",
    "\n",
    "def nlmdenoising(images):\n",
    "    nlm_images_batch = []\n",
    "    for image in images:\n",
    "        transform1 = transforms.ToPILImage()\n",
    "        pil_image = transform1(image)\n",
    "\n",
    "        h=10\n",
    "        np_image = np.array(pil_image)\n",
    "        denoised_image = cv2.fastNlMeansDenoisingColored(np_image, None, h , h , templateWindowSize = 7, searchWindowSize = 21)\n",
    "        nlm_image = Image.fromarray(denoised_image)\n",
    "        \n",
    "        transform2 = transforms.ToTensor()\n",
    "        tensor_nlm_image = transform2(nlm_image)\n",
    "        nlm_images_batch.append(tensor_nlm_image)\n",
    "    nlm_images_batch = torch.stack(nlm_images_batch)\n",
    "    return nlm_images_batch"
   ]
  },
  {
   "cell_type": "code",
   "execution_count": null,
   "id": "909767ff-525a-4dac-a67d-4e92e1679373",
   "metadata": {},
   "outputs": [],
   "source": [
    "correct = 0\n",
    "total = 0\n",
    "with torch.no_grad():\n",
    "    for images, labels in test_dataloader:\n",
    "        #outputs = net(images) \n",
    "        \n",
    "        preprocessed_images = gaussianblur(images) #Change function here to use different preprocessing methods\n",
    "        outputs = net(preprocessed_images)\n",
    "        \n",
    "        _, predicted = torch.max(outputs.data, 1)\n",
    "        total += labels.size(0)\n",
    "        correct += (predicted == labels).sum().item()\n",
    "\n",
    "print(f'Accuracy: {100 * correct / total} %')"
   ]
  },
  {
   "cell_type": "code",
   "execution_count": null,
   "id": "4735aa03-cee1-4f22-97ae-4f13581e7368",
   "metadata": {},
   "outputs": [],
   "source": []
  }
 ],
 "metadata": {
  "kernelspec": {
   "display_name": "Python (pytorch_env)",
   "language": "python",
   "name": "pytorch_env"
  },
  "language_info": {
   "codemirror_mode": {
    "name": "ipython",
    "version": 3
   },
   "file_extension": ".py",
   "mimetype": "text/x-python",
   "name": "python",
   "nbconvert_exporter": "python",
   "pygments_lexer": "ipython3",
   "version": "3.12.4"
  }
 },
 "nbformat": 4,
 "nbformat_minor": 5
}
